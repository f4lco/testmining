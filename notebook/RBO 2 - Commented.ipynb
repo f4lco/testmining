{
 "cells": [
  {
   "cell_type": "markdown",
   "metadata": {},
   "source": [
    "### RBO Reference Implementation 2\n",
    "\n",
    "https://github.com/ragrawal/measures/tree/master/measures/rankedlist"
   ]
  },
  {
   "cell_type": "code",
   "execution_count": 4,
   "metadata": {},
   "outputs": [
    {
     "name": "stdout",
     "output_type": "stream",
     "text": [
      "0.98\n",
      "0\n"
     ]
    }
   ],
   "source": [
    "#\n",
    "# @author: Ritesh Agrawal\n",
    "# @Date: 13 Feb 2013\n",
    "# @Description: This is an implementation of rank biased overlap score \n",
    "# (Refererence: http://www.umiacs.umd.edu/~wew/papers/wmz10_tois.pdf). \n",
    "# This is a modified implementation of  https://github.com/maslinych/linis-scripts/blob/master/rbo_calc.py\n",
    "# It is a linear implementation of the RBO and assumes there are no\n",
    "# duplicates and doesn't handle for ties. \n",
    "#\n",
    "\n",
    "def score(l1, l2, p = 0.98):\n",
    "    \"\"\"\n",
    "        Calculates Ranked Biased Overlap (RBO) score. \n",
    "        l1 -- Ranked List 1\n",
    "        l2 -- Ranked List 2\n",
    "    \"\"\"\n",
    "    if l1 == None: l1 = []\n",
    "    if l2 == None: l2 = []\n",
    "    \n",
    "    sl,ll = sorted([(len(l1), l1),(len(l2),l2)])\n",
    "    s, S = sl\n",
    "    l, L = ll\n",
    "    if s == 0: return 0\n",
    "\n",
    "    # Calculate the overlaps at ranks 1 through l \n",
    "    # (the longer of the two lists)\n",
    "    ss = set([]) # contains elements from the smaller list till depth i\n",
    "    ls = set([]) # contains elements from the longer list till depth i\n",
    "    x_d = {0: 0}\n",
    "    sum1 = 0.0\n",
    "    for i in range(l):\n",
    "        x = L[i]\n",
    "        y = S[i] if i < s else None\n",
    "        d = i + 1\n",
    "        \n",
    "        # if two elements are same then \n",
    "        # we don't need to add to either of the set\n",
    "        if x == y: \n",
    "            x_d[d] = x_d[d-1] + 1.0\n",
    "        # else add items to respective list\n",
    "        # and calculate overlap\n",
    "        else: \n",
    "            ls.add(x) \n",
    "            if y != None: ss.add(y)\n",
    "            x_d[d] = x_d[d-1] + (1.0 if x in ss else 0.0) + (1.0 if y in ls else 0.0)     \n",
    "        #calculate average overlap\n",
    "        sum1 += x_d[d]/d * pow(p, d)\n",
    "        \n",
    "    sum2 = 0.0\n",
    "    for i in range(l-s):\n",
    "        d = s+i+1\n",
    "        sum2 += x_d[d]*(d-s)/(d*s)*pow(p,d)\n",
    "\n",
    "    sum3 = ((x_d[l]-x_d[s])/l+x_d[s]/s)*pow(p,l)\n",
    "\n",
    "    # Equation 32\n",
    "    rbo_ext = (1-p)/p*(sum1+sum2)+sum3\n",
    "    return rbo_ext\n",
    "    \n",
    "    \n",
    "if __name__ == \"__main__\":\n",
    "    list1 = ['0','1','2','3','4','5']\n",
    "    list2 = ['1','0','2','3','4','5']\n",
    "    #print RBO(list1,list2, p = 0.98)\n",
    "    print(score(list1,list2, p = 0.98))\n",
    "\n",
    "    list1 = ['012']\n",
    "    list2 = []\n",
    "    #print RBO(list1, list2, p = 0.98)\n",
    "    print(score(list1, list2, p = 0.98))\n"
   ]
  }
 ],
 "metadata": {
  "kernelspec": {
   "display_name": "Python 3",
   "language": "python",
   "name": "python3"
  },
  "language_info": {
   "codemirror_mode": {
    "name": "ipython",
    "version": 3
   },
   "file_extension": ".py",
   "mimetype": "text/x-python",
   "name": "python",
   "nbconvert_exporter": "python",
   "pygments_lexer": "ipython3",
   "version": "3.6.3"
  }
 },
 "nbformat": 4,
 "nbformat_minor": 2
}
