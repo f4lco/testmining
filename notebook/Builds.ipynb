{
 "cells": [
  {
   "cell_type": "code",
   "execution_count": 2,
   "metadata": {},
   "outputs": [],
   "source": [
    "from util import setup_notebook\n",
    "setup_notebook()\n",
    "%load_ext autoreload\n",
    "%autoreload 2"
   ]
  },
  {
   "cell_type": "code",
   "execution_count": 3,
   "metadata": {},
   "outputs": [],
   "source": [
    "import altair as alt\n",
    "import pandas as pd"
   ]
  },
  {
   "cell_type": "code",
   "execution_count": 4,
   "metadata": {},
   "outputs": [],
   "source": [
    "from testmining.loader import read_dump\n",
    "data = read_dump('../travistorrent_8_2_2017.csv')"
   ]
  },
  {
   "cell_type": "code",
   "execution_count": 5,
   "metadata": {},
   "outputs": [],
   "source": [
    "from testmining.builds import build_statistics"
   ]
  },
  {
   "cell_type": "code",
   "execution_count": 6,
   "metadata": {},
   "outputs": [
    {
     "data": {
      "text/html": [
       "<div>\n",
       "<style scoped>\n",
       "    .dataframe tbody tr th:only-of-type {\n",
       "        vertical-align: middle;\n",
       "    }\n",
       "\n",
       "    .dataframe tbody tr th {\n",
       "        vertical-align: top;\n",
       "    }\n",
       "\n",
       "    .dataframe thead th {\n",
       "        text-align: right;\n",
       "    }\n",
       "</style>\n",
       "<table border=\"1\" class=\"dataframe\">\n",
       "  <thead>\n",
       "    <tr style=\"text-align: right;\">\n",
       "      <th></th>\n",
       "      <th>gh_project_name</th>\n",
       "      <th>gh_pull_req_num</th>\n",
       "      <th>gh_is_pr</th>\n",
       "      <th>test_failures</th>\n",
       "      <th>tr_duration</th>\n",
       "      <th>tr_log_testduration</th>\n",
       "      <th>tr_log_buildduration</th>\n",
       "    </tr>\n",
       "    <tr>\n",
       "      <th>tr_build_id</th>\n",
       "      <th></th>\n",
       "      <th></th>\n",
       "      <th></th>\n",
       "      <th></th>\n",
       "      <th></th>\n",
       "      <th></th>\n",
       "      <th></th>\n",
       "    </tr>\n",
       "  </thead>\n",
       "  <tbody>\n",
       "    <tr>\n",
       "      <th>106060</th>\n",
       "      <td>rails/rails</td>\n",
       "      <td>NaN</td>\n",
       "      <td>False</td>\n",
       "      <td>False</td>\n",
       "      <td>156165.0</td>\n",
       "      <td>0.00</td>\n",
       "      <td>0.0</td>\n",
       "    </tr>\n",
       "    <tr>\n",
       "      <th>106176</th>\n",
       "      <td>rails/rails</td>\n",
       "      <td>NaN</td>\n",
       "      <td>False</td>\n",
       "      <td>False</td>\n",
       "      <td>185910.0</td>\n",
       "      <td>0.00</td>\n",
       "      <td>0.0</td>\n",
       "    </tr>\n",
       "    <tr>\n",
       "      <th>106236</th>\n",
       "      <td>intridea/omniauth</td>\n",
       "      <td>NaN</td>\n",
       "      <td>False</td>\n",
       "      <td>False</td>\n",
       "      <td>6210.0</td>\n",
       "      <td>8.24</td>\n",
       "      <td>0.0</td>\n",
       "    </tr>\n",
       "    <tr>\n",
       "      <th>106306</th>\n",
       "      <td>myronmarston/vcr</td>\n",
       "      <td>NaN</td>\n",
       "      <td>False</td>\n",
       "      <td>False</td>\n",
       "      <td>5952.0</td>\n",
       "      <td>283.81</td>\n",
       "      <td>0.0</td>\n",
       "    </tr>\n",
       "    <tr>\n",
       "      <th>106359</th>\n",
       "      <td>intridea/omniauth</td>\n",
       "      <td>NaN</td>\n",
       "      <td>False</td>\n",
       "      <td>False</td>\n",
       "      <td>5418.0</td>\n",
       "      <td>7.59</td>\n",
       "      <td>0.0</td>\n",
       "    </tr>\n",
       "  </tbody>\n",
       "</table>\n",
       "</div>"
      ],
      "text/plain": [
       "               gh_project_name  gh_pull_req_num  gh_is_pr  test_failures  \\\n",
       "tr_build_id                                                                \n",
       "106060             rails/rails              NaN     False          False   \n",
       "106176             rails/rails              NaN     False          False   \n",
       "106236       intridea/omniauth              NaN     False          False   \n",
       "106306        myronmarston/vcr              NaN     False          False   \n",
       "106359       intridea/omniauth              NaN     False          False   \n",
       "\n",
       "             tr_duration  tr_log_testduration  tr_log_buildduration  \n",
       "tr_build_id                                                          \n",
       "106060          156165.0                 0.00                   0.0  \n",
       "106176          185910.0                 0.00                   0.0  \n",
       "106236            6210.0                 8.24                   0.0  \n",
       "106306            5952.0               283.81                   0.0  \n",
       "106359            5418.0                 7.59                   0.0  "
      ]
     },
     "execution_count": 6,
     "metadata": {},
     "output_type": "execute_result"
    }
   ],
   "source": [
    "builds = build_statistics(data)\n",
    "builds.head()"
   ]
  },
  {
   "cell_type": "code",
   "execution_count": 7,
   "metadata": {},
   "outputs": [
    {
     "data": {
      "application/javascript": [
       "var spec = {\"config\": {\"view\": {\"width\": 400, \"height\": 300}}, \"data\": {\"url\": \"altair-data-cd1c8519fbeafc7f4a33053eb933cad6.csv\", \"format\": {\"type\": \"csv\"}}, \"mark\": \"bar\", \"encoding\": {\"x\": {\"type\": \"nominal\", \"field\": \"gh_is_pr\", \"title\": \"Pull Request\"}, \"y\": {\"type\": \"quantitative\", \"aggregate\": \"count\", \"title\": \"Projects\"}}, \"$schema\": \"https://vega.github.io/schema/vega-lite/v2.6.0.json\"};\n",
       "var opt = {};\n",
       "var type = \"vega-lite\";\n",
       "var id = \"766baa5c-78ca-4212-9c36-2d2f6dfaf51d\";\n",
       "\n",
       "var output_area = this;\n",
       "\n",
       "require([\"nbextensions/jupyter-vega/index\"], function(vega) {\n",
       "  var target = document.createElement(\"div\");\n",
       "  target.id = id;\n",
       "  target.className = \"vega-embed\";\n",
       "\n",
       "  var style = document.createElement(\"style\");\n",
       "  style.textContent = [\n",
       "    \".vega-embed .error p {\",\n",
       "    \"  color: firebrick;\",\n",
       "    \"  font-size: 14px;\",\n",
       "    \"}\",\n",
       "  ].join(\"\\\\n\");\n",
       "\n",
       "  // element is a jQuery wrapped DOM element inside the output area\n",
       "  // see http://ipython.readthedocs.io/en/stable/api/generated/\\\n",
       "  // IPython.display.html#IPython.display.Javascript.__init__\n",
       "  element[0].appendChild(target);\n",
       "  element[0].appendChild(style);\n",
       "\n",
       "  vega.render(\"#\" + id, spec, type, opt, output_area);\n",
       "}, function (err) {\n",
       "  if (err.requireType !== \"scripterror\") {\n",
       "    throw(err);\n",
       "  }\n",
       "});\n"
      ],
      "text/plain": [
       "<vega.vegalite.VegaLite at 0x17f6238d0>"
      ]
     },
     "metadata": {
      "jupyter-vega": "#766baa5c-78ca-4212-9c36-2d2f6dfaf51d"
     },
     "output_type": "display_data"
    },
    {
     "data": {
      "text/plain": []
     },
     "execution_count": 7,
     "metadata": {},
     "output_type": "execute_result"
    },
    {
     "data": {
      "image/png": "[encoded data removed]"
     },
     "metadata": {
      "jupyter-vega": "#766baa5c-78ca-4212-9c36-2d2f6dfaf51d"
     },
     "output_type": "display_data"
    }
   ],
   "source": [
    "import altair as alt\n",
    "alt.data_transformers.enable('csv')\n",
    "alt.Chart(builds).mark_bar().encode(\n",
    "    x=alt.X('gh_is_pr', title='Pull Request'),\n",
    "    y=alt.Y('count()', title='Projects'))"
   ]
  },
  {
   "cell_type": "code",
   "execution_count": 8,
   "metadata": {},
   "outputs": [
    {
     "data": {
      "text/plain": [
       "'Test failure rate: 0.116058'"
      ]
     },
     "metadata": {},
     "output_type": "display_data"
    },
    {
     "data": {
      "text/plain": [
       "'Test failures: 78944'"
      ]
     },
     "metadata": {},
     "output_type": "display_data"
    }
   ],
   "source": [
    "# How many builds have test failures?\n",
    "test_failure_count = builds['test_failures'].sum()\n",
    "relative_test_failure_count = test_failure_count / len(builds)\n",
    "\n",
    "from IPython.display import display\n",
    "display('Test failure rate: %f' % relative_test_failure_count)\n",
    "display('Test failures: %d' % test_failure_count)"
   ]
  },
  {
   "cell_type": "code",
   "execution_count": 97,
   "metadata": {},
   "outputs": [
    {
     "data": {
      "text/plain": [
       "'56066 builds have conclusive test and build duration (of 680209 builds)'"
      ]
     },
     "metadata": {},
     "output_type": "display_data"
    },
    {
     "data": {
      "text/plain": [
       "'On average, 0.399072 * buildtime is spent on testing for builds with reliable duration information'"
      ]
     },
     "metadata": {},
     "output_type": "display_data"
    }
   ],
   "source": [
    "# On average, how much time is spent on testing?\n",
    "# Insight: if there are test failures, test time bumps up to 48% on average.\n",
    "has_valid_duration = \\\n",
    "    (builds['tr_log_testduration'] > 0) & \\\n",
    "    (builds['tr_log_buildduration'] >  0) & \\\n",
    "    (builds['tr_log_testduration'] < builds['tr_log_buildduration'])\n",
    "\n",
    "display('%d builds have conclusive test and build duration (of %d builds)' % (has_valid_duration.sum(), len(builds)))\n",
    "\n",
    "average_time_spent = (builds[has_valid_duration]['tr_log_testduration'] / builds[has_valid_duration]['tr_log_buildduration']).mean()\n",
    "display('On average, %f * buildtime is spent on testing for builds with reliable duration information' % average_time_spent)"
   ]
  },
  {
   "cell_type": "code",
   "execution_count": 67,
   "metadata": {},
   "outputs": [
    {
     "data": {
      "text/plain": [
       "'With noisy timing information, average test duration is 4.88 hours'"
      ]
     },
     "metadata": {},
     "output_type": "display_data"
    },
    {
     "data": {
      "text/plain": [
       "'With reasonable timing information, average test duration is 5.59 minutes'"
      ]
     },
     "metadata": {},
     "output_type": "display_data"
    }
   ],
   "source": [
    "# How long does a project build on average?\n",
    "unreliable_avg_testduration_hours = builds['tr_log_testduration'].mean() / 60 / 60\n",
    "display('With noisy timing information, average test duration is %.2f hours' % unreliable_avg_testduration_hours)\n",
    "\n",
    "valid_test_durations = builds[has_valid_duration][['tr_log_testduration']]\n",
    "avg_testduration_minutes = valid_test_durations.mean() / 60\n",
    "display('With reasonable timing information, average test duration is %.2f minutes' % avg_testduration_minutes[0])"
   ]
  },
  {
   "cell_type": "code",
   "execution_count": 68,
   "metadata": {},
   "outputs": [
    {
     "data": {
      "text/plain": [
       "gh_project_name         rails/rails\n",
       "gh_pull_req_num                 NaN\n",
       "gh_is_pr                      False\n",
       "test_failures                  True\n",
       "tr_duration                    9280\n",
       "tr_log_testduration     4.86805e+08\n",
       "tr_log_buildduration              0\n",
       "Name: 65543785, dtype: object"
      ]
     },
     "metadata": {},
     "output_type": "display_data"
    },
    {
     "data": {
      "text/plain": [
       "15.436489166032468"
      ]
     },
     "metadata": {},
     "output_type": "display_data"
    }
   ],
   "source": [
    "# Terrible: 15 years of test runtime?\n",
    "display(builds.loc[builds['tr_log_testduration'].idxmax()])\n",
    "display(builds['tr_log_testduration'].max() / 60 / 60 / 24 / 365)"
   ]
  },
  {
   "cell_type": "code",
   "execution_count": 71,
   "metadata": {},
   "outputs": [
    {
     "data": {
      "application/javascript": [
       "var spec = {\"config\": {\"view\": {\"width\": 400, \"height\": 300}}, \"data\": {\"url\": \"altair-data-f5b569c7bc8814be8781a4840a4df444.csv\", \"format\": {\"type\": \"csv\"}}, \"mark\": \"bar\", \"encoding\": {\"x\": {\"type\": \"quantitative\", \"bin\": {\"step\": 15}, \"field\": \"tr_log_testduration\", \"title\": \"Test Duration (m)\"}, \"y\": {\"type\": \"quantitative\", \"aggregate\": \"count\", \"title\": \"Number of Builds\"}}, \"$schema\": \"https://vega.github.io/schema/vega-lite/v2.6.0.json\"};\n",
       "var opt = {};\n",
       "var type = \"vega-lite\";\n",
       "var id = \"4cdb42d2-37fa-4b85-b580-ec9eda39fb4a\";\n",
       "\n",
       "var output_area = this;\n",
       "\n",
       "require([\"nbextensions/jupyter-vega/index\"], function(vega) {\n",
       "  var target = document.createElement(\"div\");\n",
       "  target.id = id;\n",
       "  target.className = \"vega-embed\";\n",
       "\n",
       "  var style = document.createElement(\"style\");\n",
       "  style.textContent = [\n",
       "    \".vega-embed .error p {\",\n",
       "    \"  color: firebrick;\",\n",
       "    \"  font-size: 14px;\",\n",
       "    \"}\",\n",
       "  ].join(\"\\\\n\");\n",
       "\n",
       "  // element is a jQuery wrapped DOM element inside the output area\n",
       "  // see http://ipython.readthedocs.io/en/stable/api/generated/\\\n",
       "  // IPython.display.html#IPython.display.Javascript.__init__\n",
       "  element[0].appendChild(target);\n",
       "  element[0].appendChild(style);\n",
       "\n",
       "  vega.render(\"#\" + id, spec, type, opt, output_area);\n",
       "}, function (err) {\n",
       "  if (err.requireType !== \"scripterror\") {\n",
       "    throw(err);\n",
       "  }\n",
       "});\n"
      ],
      "text/plain": [
       "<vega.vegalite.VegaLite at 0x16fcdfdd8>"
      ]
     },
     "metadata": {
      "jupyter-vega": "#4cdb42d2-37fa-4b85-b580-ec9eda39fb4a"
     },
     "output_type": "display_data"
    },
    {
     "data": {
      "text/plain": []
     },
     "execution_count": 71,
     "metadata": {},
     "output_type": "execute_result"
    },
    {
     "data": {
      "image/png": "[encoded data removed]"
     },
     "metadata": {
      "jupyter-vega": "#4cdb42d2-37fa-4b85-b580-ec9eda39fb4a"
     },
     "output_type": "display_data"
    }
   ],
   "source": [
    "# FIXME maybe redo these charts - they evaluate the 'logical time', if all jobs of a build were run sequentially, and the time adds up.\n",
    "# Maybe do another version with the max job time of a build.\n",
    "# Given the noisy timing data, it might not be worth the effort.\n",
    "\n",
    "# Researching the 15 minute build myth\n",
    "alt.Chart(valid_test_durations / 60).mark_bar().encode(\n",
    "  x=alt.X('tr_log_testduration', bin=alt.BinParams(step=15), title='Test Duration (m)'),\n",
    "  y=alt.Y('count()', title='Number of Builds'))"
   ]
  },
  {
   "cell_type": "code",
   "execution_count": 100,
   "metadata": {},
   "outputs": [
    {
     "data": {
      "text/plain": [
       "'54.88 % of builds exceed the 15 minute build rule'"
      ]
     },
     "metadata": {},
     "output_type": "display_data"
    },
    {
     "data": {
      "text/plain": [
       "'If 15m is exceeded anyway, the avg is 9.06 m'"
      ]
     },
     "metadata": {},
     "output_type": "display_data"
    }
   ],
   "source": [
    "# Grains of salt\n",
    "# 12% of builds *test* longer than 15 minutes, which is on average 30m test time\n",
    "# 55% of builes *run* longer than 15 minutes, which results on average in 9m test time. \n",
    "\n",
    "#build15_violators = (valid_test_durations > (15 * 60))\n",
    "build15_violators = (builds[has_valid_duration]['tr_duration'] > (15 * 60))\n",
    "share_build15 = build15_violators.sum() / len(build15_violators) * 100\n",
    "display('%.2f %% of builds exceed the 15 minute build rule' % share_build15)\n",
    "build15_violator_avg = valid_test_durations[build15_violators].mean() / 60\n",
    "display('If 15m is exceeded anyway, the avg is %.2f m' % build15_violator_avg)"
   ]
  },
  {
   "cell_type": "code",
   "execution_count": 98,
   "metadata": {},
   "outputs": [
    {
     "data": {
      "text/plain": [
       "tr_log_testduration    6893\n",
       "dtype: int64"
      ]
     },
     "execution_count": 98,
     "metadata": {},
     "output_type": "execute_result"
    }
   ],
   "source": [
    "((valid_test_durations >= 15 * 60) & (valid_test_durations <= 60 * 60)).sum()"
   ]
  },
  {
   "cell_type": "code",
   "execution_count": 9,
   "metadata": {},
   "outputs": [
    {
     "data": {
      "text/plain": [
       "530.1706936866718"
      ]
     },
     "execution_count": 9,
     "metadata": {},
     "output_type": "execute_result"
    }
   ],
   "source": [
    "# How many builds are there per project on average?\n",
    "builds.groupby('gh_project_name').agg('size').mean()"
   ]
  },
  {
   "cell_type": "code",
   "execution_count": 10,
   "metadata": {},
   "outputs": [
    {
     "data": {
      "text/plain": [
       "0.15225320452978422"
      ]
     },
     "execution_count": 10,
     "metadata": {},
     "output_type": "execute_result"
    }
   ],
   "source": [
    "# How many builds were part of a PR?\n",
    "builds['gh_is_pr'].sum() / len(builds)"
   ]
  },
  {
   "cell_type": "code",
   "execution_count": 11,
   "metadata": {},
   "outputs": [],
   "source": [
    "pr_builds = builds[builds['gh_is_pr']]\n",
    "build_counts = pr_builds.groupby('gh_project_name').agg('size')"
   ]
  },
  {
   "cell_type": "code",
   "execution_count": 12,
   "metadata": {},
   "outputs": [
    {
     "data": {
      "application/javascript": [
       "var spec = {\"config\": {\"view\": {\"width\": 400, \"height\": 300}}, \"data\": {\"url\": \"altair-data-73b659f61b511d1717057da89b6a78b9.csv\", \"format\": {\"type\": \"csv\"}}, \"mark\": \"bar\", \"encoding\": {\"x\": {\"type\": \"quantitative\", \"field\": \"build_count\", \"title\": \"Builds with Pull Request\"}, \"y\": {\"type\": \"quantitative\", \"aggregate\": \"count\", \"title\": \"Projects\"}}, \"$schema\": \"https://vega.github.io/schema/vega-lite/v2.6.0.json\"};\n",
       "var opt = {};\n",
       "var type = \"vega-lite\";\n",
       "var id = \"8c490879-d18e-40ec-a835-df38b08c3175\";\n",
       "\n",
       "var output_area = this;\n",
       "\n",
       "require([\"nbextensions/jupyter-vega/index\"], function(vega) {\n",
       "  var target = document.createElement(\"div\");\n",
       "  target.id = id;\n",
       "  target.className = \"vega-embed\";\n",
       "\n",
       "  var style = document.createElement(\"style\");\n",
       "  style.textContent = [\n",
       "    \".vega-embed .error p {\",\n",
       "    \"  color: firebrick;\",\n",
       "    \"  font-size: 14px;\",\n",
       "    \"}\",\n",
       "  ].join(\"\\\\n\");\n",
       "\n",
       "  // element is a jQuery wrapped DOM element inside the output area\n",
       "  // see http://ipython.readthedocs.io/en/stable/api/generated/\\\n",
       "  // IPython.display.html#IPython.display.Javascript.__init__\n",
       "  element[0].appendChild(target);\n",
       "  element[0].appendChild(style);\n",
       "\n",
       "  vega.render(\"#\" + id, spec, type, opt, output_area);\n",
       "}, function (err) {\n",
       "  if (err.requireType !== \"scripterror\") {\n",
       "    throw(err);\n",
       "  }\n",
       "});\n"
      ],
      "text/plain": [
       "<vega.vegalite.VegaLite at 0x11fb1af28>"
      ]
     },
     "metadata": {
      "jupyter-vega": "#8c490879-d18e-40ec-a835-df38b08c3175"
     },
     "output_type": "display_data"
    },
    {
     "data": {
      "text/plain": []
     },
     "execution_count": 12,
     "metadata": {},
     "output_type": "execute_result"
    },
    {
     "data": {
      "image/png": "[encoded data removed]"
     },
     "metadata": {
      "jupyter-vega": "#8c490879-d18e-40ec-a835-df38b08c3175"
     },
     "output_type": "display_data"
    },
    {
     "data": {
      "image/png": "[encoded data removed]"
     },
     "metadata": {
      "jupyter-vega": "#8c490879-d18e-40ec-a835-df38b08c3175"
     },
     "output_type": "display_data"
    }
   ],
   "source": [
    "build_counts_df = pd.DataFrame({'build_count': build_counts})\n",
    "alt.Chart(build_counts_df).mark_bar().encode(\n",
    "    x=alt.X('build_count', title='Builds with Pull Request'),\n",
    "    y=alt.Y('count()', title='Projects'))"
   ]
  }
 ],
 "metadata": {
  "kernelspec": {
   "display_name": "Python 3",
   "language": "python",
   "name": "python3"
  },
  "language_info": {
   "codemirror_mode": {
    "name": "ipython",
    "version": 3
   },
   "file_extension": ".py",
   "mimetype": "text/x-python",
   "name": "python",
   "nbconvert_exporter": "python",
   "pygments_lexer": "ipython3",
   "version": "3.6.3"
  }
 },
 "nbformat": 4,
 "nbformat_minor": 2
}
