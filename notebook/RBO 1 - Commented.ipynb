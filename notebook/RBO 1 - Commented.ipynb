{
 "cells": [
  {
   "cell_type": "markdown",
   "metadata": {},
   "source": [
    "### RBO Reference Implementation 1\n",
    "\n",
    "https://github.com/maslinych/linis-scripts/blob/master/rbo_calc.py"
   ]
  },
  {
   "cell_type": "code",
   "execution_count": 2,
   "metadata": {},
   "outputs": [
    {
     "name": "stdout",
     "output_type": "stream",
     "text": [
      "0.7220966666666666\n"
     ]
    }
   ],
   "source": [
    "def calc_rbo(l1,l2,p):\n",
    "    \"\"\" \n",
    "    Returns RBO indefinite rank similarity metric, as described in:\n",
    "    Webber, W., Moffat, A., & Zobel, J. (2010). \n",
    "    A similarity measure for indefinite rankings. \n",
    "    ACM Transactions on Information Systems.\n",
    "    doi:10.1145/1852102.1852106.\n",
    "    \"\"\"\n",
    "    sl,ll = sorted([(len(l1), l1),(len(l2),l2)])\n",
    "    s, S = sl\n",
    "    l, L = ll\n",
    "    \n",
    "    # Calculate the overlaps at ranks 1 through l \n",
    "    # (the longer of the two lists)\n",
    "    ss = set([])\n",
    "    ls = set([])\n",
    "    overs = {}\n",
    "    for i in range(l):\n",
    "        ls.add(L[i])\n",
    "        if i<s:\n",
    "           ss.add(S[i])\n",
    "        X_d = len(ss.intersection(ls))\n",
    "        d = i+1\n",
    "        overs[d] = float(X_d)\n",
    "    \n",
    "    # (1) \\sum_{d=1}^l (X_d / d) * p^d\n",
    "    sum1 = 0\n",
    "    for i in range(l):\n",
    "        d=i+1\n",
    "        sum1+=overs[d]/d*pow(p,d)\n",
    "    X_s = overs[s]\n",
    "    X_l = overs[l]\n",
    "\n",
    "    # (2) \\sum_{d=s+1}^l [(X_s (d - s)) / (sd)] * p^d\n",
    "    sum2 = 0\n",
    "    for i in range(s,l):\n",
    "        d=i+1\n",
    "        sum2+=(X_s*(d-s)/(s*d))*pow(p,d)\n",
    "\n",
    "    # (3) [(X_l - X_s) / l + X_s / s] * p^l\n",
    "    sum3 = ((X_l-X_s)/l+X_s/s)*pow(p,l)\n",
    "    \n",
    "    # Equation 32. \n",
    "    rbo_ext = (1-p)/p*(sum1+sum2)+sum3\n",
    "    return rbo_ext\n",
    "\n",
    "\n",
    "\n",
    "\n",
    "if __name__ == \"__main__\":\n",
    "    list1 = ['A','B','C','D','E','H']\n",
    "    list2 = ['D','B','F','A']\n",
    "    print(calc_rbo(list1,list2,0.98))"
   ]
  }
 ],
 "metadata": {
  "kernelspec": {
   "display_name": "Python 3",
   "language": "python",
   "name": "python3"
  },
  "language_info": {
   "codemirror_mode": {
    "name": "ipython",
    "version": 3
   },
   "file_extension": ".py",
   "mimetype": "text/x-python",
   "name": "python",
   "nbconvert_exporter": "python",
   "pygments_lexer": "ipython3",
   "version": "3.6.3"
  }
 },
 "nbformat": 4,
 "nbformat_minor": 2
}
