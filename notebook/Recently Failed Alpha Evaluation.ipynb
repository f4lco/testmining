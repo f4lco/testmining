{
 "cells": [
  {
   "cell_type": "code",
   "execution_count": 1,
   "metadata": {},
   "outputs": [],
   "source": [
    "from util import setup_notebook\n",
    "setup_notebook()\n",
    "%load_ext autoreload\n",
    "%autoreload 2"
   ]
  },
  {
   "cell_type": "code",
   "execution_count": 3,
   "metadata": {},
   "outputs": [],
   "source": [
    "import os\n",
    "import re\n",
    "import altair as alt\n",
    "import pandas as pd\n",
    "from testmining import apfd, folders\n",
    "from testmining.util import find_files"
   ]
  },
  {
   "cell_type": "code",
   "execution_count": 5,
   "metadata": {},
   "outputs": [
    {
     "data": {
      "text/html": [
       "<div>\n",
       "<style scoped>\n",
       "    .dataframe tbody tr th:only-of-type {\n",
       "        vertical-align: middle;\n",
       "    }\n",
       "\n",
       "    .dataframe tbody tr th {\n",
       "        vertical-align: top;\n",
       "    }\n",
       "\n",
       "    .dataframe thead th {\n",
       "        text-align: right;\n",
       "    }\n",
       "</style>\n",
       "<table border=\"1\" class=\"dataframe\">\n",
       "  <thead>\n",
       "    <tr style=\"text-align: right;\">\n",
       "      <th></th>\n",
       "      <th>alpha</th>\n",
       "      <th>filename</th>\n",
       "      <th>apfd</th>\n",
       "    </tr>\n",
       "  </thead>\n",
       "  <tbody>\n",
       "    <tr>\n",
       "      <th>0</th>\n",
       "      <td>0.0</td>\n",
       "      <td>../output/square@okhttp/recently-failed-alpha/...</td>\n",
       "      <td>0.539178</td>\n",
       "    </tr>\n",
       "    <tr>\n",
       "      <th>1</th>\n",
       "      <td>0.1</td>\n",
       "      <td>../output/square@okhttp/recently-failed-alpha/...</td>\n",
       "      <td>0.898192</td>\n",
       "    </tr>\n",
       "    <tr>\n",
       "      <th>2</th>\n",
       "      <td>0.2</td>\n",
       "      <td>../output/square@okhttp/recently-failed-alpha/...</td>\n",
       "      <td>0.898192</td>\n",
       "    </tr>\n",
       "    <tr>\n",
       "      <th>3</th>\n",
       "      <td>0.3</td>\n",
       "      <td>../output/square@okhttp/recently-failed-alpha/...</td>\n",
       "      <td>0.898192</td>\n",
       "    </tr>\n",
       "    <tr>\n",
       "      <th>4</th>\n",
       "      <td>0.4</td>\n",
       "      <td>../output/square@okhttp/recently-failed-alpha/...</td>\n",
       "      <td>0.898192</td>\n",
       "    </tr>\n",
       "    <tr>\n",
       "      <th>5</th>\n",
       "      <td>0.5</td>\n",
       "      <td>../output/square@okhttp/recently-failed-alpha/...</td>\n",
       "      <td>0.898192</td>\n",
       "    </tr>\n",
       "    <tr>\n",
       "      <th>6</th>\n",
       "      <td>0.6</td>\n",
       "      <td>../output/square@okhttp/recently-failed-alpha/...</td>\n",
       "      <td>0.898192</td>\n",
       "    </tr>\n",
       "    <tr>\n",
       "      <th>7</th>\n",
       "      <td>0.7</td>\n",
       "      <td>../output/square@okhttp/recently-failed-alpha/...</td>\n",
       "      <td>0.898192</td>\n",
       "    </tr>\n",
       "    <tr>\n",
       "      <th>8</th>\n",
       "      <td>0.8</td>\n",
       "      <td>../output/square@okhttp/recently-failed-alpha/...</td>\n",
       "      <td>0.898192</td>\n",
       "    </tr>\n",
       "    <tr>\n",
       "      <th>9</th>\n",
       "      <td>0.9</td>\n",
       "      <td>../output/square@okhttp/recently-failed-alpha/...</td>\n",
       "      <td>0.898192</td>\n",
       "    </tr>\n",
       "    <tr>\n",
       "      <th>10</th>\n",
       "      <td>1.0</td>\n",
       "      <td>../output/square@okhttp/recently-failed-alpha/...</td>\n",
       "      <td>0.879717</td>\n",
       "    </tr>\n",
       "  </tbody>\n",
       "</table>\n",
       "</div>"
      ],
      "text/plain": [
       "    alpha                                           filename      apfd\n",
       "0     0.0  ../output/square@okhttp/recently-failed-alpha/...  0.539178\n",
       "1     0.1  ../output/square@okhttp/recently-failed-alpha/...  0.898192\n",
       "2     0.2  ../output/square@okhttp/recently-failed-alpha/...  0.898192\n",
       "3     0.3  ../output/square@okhttp/recently-failed-alpha/...  0.898192\n",
       "4     0.4  ../output/square@okhttp/recently-failed-alpha/...  0.898192\n",
       "5     0.5  ../output/square@okhttp/recently-failed-alpha/...  0.898192\n",
       "6     0.6  ../output/square@okhttp/recently-failed-alpha/...  0.898192\n",
       "7     0.7  ../output/square@okhttp/recently-failed-alpha/...  0.898192\n",
       "8     0.8  ../output/square@okhttp/recently-failed-alpha/...  0.898192\n",
       "9     0.9  ../output/square@okhttp/recently-failed-alpha/...  0.898192\n",
       "10    1.0  ../output/square@okhttp/recently-failed-alpha/...  0.879717"
      ]
     },
     "execution_count": 5,
     "metadata": {},
     "output_type": "execute_result"
    }
   ],
   "source": [
    "base_dir = os.path.join(folders.project('square@okhttp'), 'recently-failed-alpha')\n",
    "file_regex = re.compile('square-okhttp-recently-failed-(\\d+.\\d+).csv')\n",
    "files = find_files(base_dir, file_regex, converter=float)\n",
    "\n",
    "            \n",
    "df = pd.DataFrame(files, columns=['alpha', 'filename']).sort_values(by='alpha').reset_index(drop=True)\n",
    "df['apfd'] = df['filename'].apply(apfd.file_apfd)\n",
    "df"
   ]
  },
  {
   "cell_type": "code",
   "execution_count": 4,
   "metadata": {},
   "outputs": [
    {
     "data": {
      "text/plain": [
       "3"
      ]
     },
     "execution_count": 4,
     "metadata": {},
     "output_type": "execute_result"
    }
   ],
   "source": [
    "df['apfd'].idxmax()"
   ]
  },
  {
   "cell_type": "code",
   "execution_count": 5,
   "metadata": {},
   "outputs": [
    {
     "data": {
      "text/html": [
       "<div class=\"vega-embed\" id=\"4dde578f-67dc-47ac-b35f-26b8340f55fe\"></div>\n",
       "\n",
       "<style>\n",
       ".vega-embed .error p {\n",
       "    color: firebrick;\n",
       "    font-size: 14px;\n",
       "}\n",
       "</style>\n"
      ]
     },
     "metadata": {
      "jupyter-vega": "#4dde578f-67dc-47ac-b35f-26b8340f55fe"
     },
     "output_type": "display_data"
    },
    {
     "data": {
      "application/javascript": [
       "var spec = {\"config\": {\"view\": {\"width\": 400, \"height\": 300}}, \"data\": {\"name\": \"data-f4a80b17834691622225cfcc122a5fba\"}, \"mark\": \"line\", \"encoding\": {\"x\": {\"type\": \"quantitative\", \"field\": \"alpha\"}, \"y\": {\"type\": \"quantitative\", \"field\": \"apfd\"}}, \"$schema\": \"https://vega.github.io/schema/vega-lite/v2.6.0.json\", \"datasets\": {\"data-f4a80b17834691622225cfcc122a5fba\": [{\"alpha\": 0.0, \"filename\": \"../output/square@okhttp/recently-failed-alpha/square-okhttp-recently-failed-0.0.csv\", \"apfd\": 0.5391775777414075}, {\"alpha\": 0.1, \"filename\": \"../output/square@okhttp/recently-failed-alpha/square-okhttp-recently-failed-0.1.csv\", \"apfd\": 0.8981921979067554}, {\"alpha\": 0.2, \"filename\": \"../output/square@okhttp/recently-failed-alpha/square-okhttp-recently-failed-0.2.csv\", \"apfd\": 0.8981921979067554}, {\"alpha\": 0.3, \"filename\": \"../output/square@okhttp/recently-failed-alpha/square-okhttp-recently-failed-0.3.csv\", \"apfd\": 0.8981921979067555}, {\"alpha\": 0.4, \"filename\": \"../output/square@okhttp/recently-failed-alpha/square-okhttp-recently-failed-0.4.csv\", \"apfd\": 0.8981921979067555}, {\"alpha\": 0.5, \"filename\": \"../output/square@okhttp/recently-failed-alpha/square-okhttp-recently-failed-0.5.csv\", \"apfd\": 0.8981921979067554}, {\"alpha\": 0.6, \"filename\": \"../output/square@okhttp/recently-failed-alpha/square-okhttp-recently-failed-0.6.csv\", \"apfd\": 0.8981921979067554}, {\"alpha\": 0.7, \"filename\": \"../output/square@okhttp/recently-failed-alpha/square-okhttp-recently-failed-0.7.csv\", \"apfd\": 0.8981921979067554}, {\"alpha\": 0.8, \"filename\": \"../output/square@okhttp/recently-failed-alpha/square-okhttp-recently-failed-0.8.csv\", \"apfd\": 0.8981921979067554}, {\"alpha\": 0.9, \"filename\": \"../output/square@okhttp/recently-failed-alpha/square-okhttp-recently-failed-0.9.csv\", \"apfd\": 0.8981921979067554}, {\"alpha\": 1.0, \"filename\": \"../output/square@okhttp/recently-failed-alpha/square-okhttp-recently-failed-1.0.csv\", \"apfd\": 0.8797169811320755}]}};\n",
       "var opt = {};\n",
       "var selector = \"#4dde578f-67dc-47ac-b35f-26b8340f55fe\";\n",
       "var type = \"vega-lite\";\n",
       "\n",
       "var output_area = this;\n",
       "\n",
       "require(['nbextensions/jupyter-vega/index'], function(vega) {\n",
       "  vega.render(selector, spec, type, opt, output_area);\n",
       "}, function (err) {\n",
       "  if (err.requireType !== 'scripterror') {\n",
       "    throw(err);\n",
       "  }\n",
       "});\n"
      ]
     },
     "metadata": {
      "jupyter-vega": "#4dde578f-67dc-47ac-b35f-26b8340f55fe"
     },
     "output_type": "display_data"
    },
    {
     "data": {
      "text/plain": []
     },
     "execution_count": 5,
     "metadata": {},
     "output_type": "execute_result"
    },
    {
     "data": {
      "image/png": "[encoded data removed]"
     },
     "metadata": {
      "jupyter-vega": "#4dde578f-67dc-47ac-b35f-26b8340f55fe"
     },
     "output_type": "display_data"
    },
    {
     "data": {
      "image/png": "[encoded data removed]"
     },
     "metadata": {
      "jupyter-vega": "#4dde578f-67dc-47ac-b35f-26b8340f55fe"
     },
     "output_type": "display_data"
    }
   ],
   "source": [
    "alt.Chart(df).mark_line().encode(\n",
    "  x=alt.X('alpha'),\n",
    "  y=alt.Y('apfd'),\n",
    ")"
   ]
  }
 ],
 "metadata": {
  "kernelspec": {
   "display_name": "Python 3",
   "language": "python",
   "name": "python3"
  },
  "language_info": {
   "codemirror_mode": {
    "name": "ipython",
    "version": 3
   },
   "file_extension": ".py",
   "mimetype": "text/x-python",
   "name": "python",
   "nbconvert_exporter": "python",
   "pygments_lexer": "ipython3",
   "version": "3.7.3"
  }
 },
 "nbformat": 4,
 "nbformat_minor": 2
}
