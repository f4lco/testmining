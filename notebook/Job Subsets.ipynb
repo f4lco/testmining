{
 "cells": [
  {
   "cell_type": "code",
   "execution_count": 1,
   "metadata": {},
   "outputs": [],
   "source": [
    "from util import setup_notebook\n",
    "setup_notebook()\n",
    "%load_ext autoreload\n",
    "%autoreload 2"
   ]
  },
  {
   "cell_type": "markdown",
   "metadata": {},
   "source": [
    "## Plan\n",
    "* Für jedes Dataset gibt es eine offenders.csv\n",
    "* Kombiniere mit Original-CSV von untreated und (bester?) Matrix-Strategie\n",
    "* Für jeden Build aus den offenders, berechne APFD von beiden und vergleiche."
   ]
  },
  {
   "cell_type": "code",
   "execution_count": 7,
   "metadata": {},
   "outputs": [],
   "source": [
    "from testmining import apfd\n",
    "import pandas as pd\n",
    "\n",
    "offenders = pd.read_csv(\"../output/square@okhttp/square@okhttp-pr.csv\")\n",
    "recently_failed = apfd.read_tests(\"../output/square@okhttp/baseline/okhttp@recently-failed.csv\")\n",
    "matrix = apfd.read_tests(\"../output/square@okhttp/baseline/okhttp@matrix-file-similarity.csv\")"
   ]
  },
  {
   "cell_type": "code",
   "execution_count": 8,
   "metadata": {},
   "outputs": [
    {
     "data": {
      "text/html": [
       "<div>\n",
       "<style scoped>\n",
       "    .dataframe tbody tr th:only-of-type {\n",
       "        vertical-align: middle;\n",
       "    }\n",
       "\n",
       "    .dataframe tbody tr th {\n",
       "        vertical-align: top;\n",
       "    }\n",
       "\n",
       "    .dataframe thead th {\n",
       "        text-align: right;\n",
       "    }\n",
       "</style>\n",
       "<table border=\"1\" class=\"dataframe\">\n",
       "  <thead>\n",
       "    <tr style=\"text-align: right;\">\n",
       "      <th></th>\n",
       "      <th>tr_job_id</th>\n",
       "      <th>recently_failed</th>\n",
       "      <th>matrix</th>\n",
       "      <th>diff</th>\n",
       "    </tr>\n",
       "  </thead>\n",
       "  <tbody>\n",
       "    <tr>\n",
       "      <th>0</th>\n",
       "      <td>3077822</td>\n",
       "      <td>0.557759</td>\n",
       "      <td>0.557759</td>\n",
       "      <td>0.000000</td>\n",
       "    </tr>\n",
       "    <tr>\n",
       "      <th>1</th>\n",
       "      <td>3103902</td>\n",
       "      <td>0.437931</td>\n",
       "      <td>0.655172</td>\n",
       "      <td>0.217241</td>\n",
       "    </tr>\n",
       "    <tr>\n",
       "      <th>2</th>\n",
       "      <td>3144121</td>\n",
       "      <td>0.456667</td>\n",
       "      <td>0.666667</td>\n",
       "      <td>0.210000</td>\n",
       "    </tr>\n",
       "    <tr>\n",
       "      <th>3</th>\n",
       "      <td>3153783</td>\n",
       "      <td>0.671053</td>\n",
       "      <td>0.671053</td>\n",
       "      <td>0.000000</td>\n",
       "    </tr>\n",
       "    <tr>\n",
       "      <th>4</th>\n",
       "      <td>3168438</td>\n",
       "      <td>0.529412</td>\n",
       "      <td>0.575980</td>\n",
       "      <td>0.046569</td>\n",
       "    </tr>\n",
       "  </tbody>\n",
       "</table>\n",
       "</div>"
      ],
      "text/plain": [
       "   tr_job_id  recently_failed    matrix      diff\n",
       "0    3077822         0.557759  0.557759  0.000000\n",
       "1    3103902         0.437931  0.655172  0.217241\n",
       "2    3144121         0.456667  0.666667  0.210000\n",
       "3    3153783         0.671053  0.671053  0.000000\n",
       "4    3168438         0.529412  0.575980  0.046569"
      ]
     },
     "execution_count": 8,
     "metadata": {},
     "output_type": "execute_result"
    }
   ],
   "source": [
    "def go(df, job):\n",
    "    entries = df[df['travisJobId'] == job]\n",
    "    return apfd.apfd(apfd.apfd_plot(entries))\n",
    "\n",
    "df = pd.DataFrame({\n",
    "    'tr_job_id': offenders['tr_job_id'],\n",
    "    'recently_failed': offenders['tr_job_id'].apply(lambda x: go(recently_failed, x)),\n",
    "    'matrix': offenders['tr_job_id'].apply(lambda x: go(matrix, x)),\n",
    "})\n",
    "\n",
    "df['diff'] = df['matrix'] - df['recently_failed']\n",
    "df.head()"
   ]
  },
  {
   "cell_type": "code",
   "execution_count": 9,
   "metadata": {},
   "outputs": [
    {
     "data": {
      "text/plain": [
       "186"
      ]
     },
     "execution_count": 9,
     "metadata": {},
     "output_type": "execute_result"
    }
   ],
   "source": [
    "# How many observations?\n",
    "len(df)"
   ]
  },
  {
   "cell_type": "code",
   "execution_count": 10,
   "metadata": {},
   "outputs": [
    {
     "data": {
      "text/plain": [
       "33"
      ]
     },
     "execution_count": 10,
     "metadata": {},
     "output_type": "execute_result"
    }
   ],
   "source": [
    "# How many times was matrix better than recently failed?\n",
    "(df['diff'] > 0).sum()"
   ]
  },
  {
   "cell_type": "code",
   "execution_count": 11,
   "metadata": {},
   "outputs": [
    {
     "data": {
      "text/plain": [
       "-4.748594906397005"
      ]
     },
     "execution_count": 11,
     "metadata": {},
     "output_type": "execute_result"
    }
   ],
   "source": [
    "# Which strategy scored more often?\n",
    "df['diff'].sum()"
   ]
  }
 ],
 "metadata": {
  "kernelspec": {
   "display_name": "Python 3",
   "language": "python",
   "name": "python3"
  },
  "language_info": {
   "codemirror_mode": {
    "name": "ipython",
    "version": 3
   },
   "file_extension": ".py",
   "mimetype": "text/x-python",
   "name": "python",
   "nbconvert_exporter": "python",
   "pygments_lexer": "ipython3",
   "version": "3.6.3"
  }
 },
 "nbformat": 4,
 "nbformat_minor": 2
}
