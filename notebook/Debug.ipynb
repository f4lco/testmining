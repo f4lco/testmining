{
 "cells": [
  {
   "cell_type": "code",
   "execution_count": 1,
   "metadata": {},
   "outputs": [],
   "source": [
    "from util import setup_notebook\n",
    "setup_notebook()\n",
    "%load_ext autoreload\n",
    "%autoreload 2"
   ]
  },
  {
   "cell_type": "code",
   "execution_count": 2,
   "metadata": {},
   "outputs": [
    {
     "data": {
      "text/html": [
       "<div>\n",
       "<style scoped>\n",
       "    .dataframe tbody tr th:only-of-type {\n",
       "        vertical-align: middle;\n",
       "    }\n",
       "\n",
       "    .dataframe tbody tr th {\n",
       "        vertical-align: top;\n",
       "    }\n",
       "\n",
       "    .dataframe thead th {\n",
       "        text-align: right;\n",
       "    }\n",
       "</style>\n",
       "<table border=\"1\" class=\"dataframe\">\n",
       "  <thead>\n",
       "    <tr style=\"text-align: right;\">\n",
       "      <th></th>\n",
       "      <th>travisJobId</th>\n",
       "      <th>testName</th>\n",
       "      <th>index</th>\n",
       "      <th>duration</th>\n",
       "      <th>count</th>\n",
       "      <th>failures</th>\n",
       "      <th>errors</th>\n",
       "      <th>skipped</th>\n",
       "      <th>red</th>\n",
       "    </tr>\n",
       "  </thead>\n",
       "  <tbody>\n",
       "    <tr>\n",
       "      <th>3661</th>\n",
       "      <td>95531958</td>\n",
       "      <td>de.neuland.jade4j.compiler.OriginalJade2015051...</td>\n",
       "      <td>0</td>\n",
       "      <td>1.481</td>\n",
       "      <td>22</td>\n",
       "      <td>11</td>\n",
       "      <td>11</td>\n",
       "      <td>0</td>\n",
       "      <td>22</td>\n",
       "    </tr>\n",
       "    <tr>\n",
       "      <th>3662</th>\n",
       "      <td>95531958</td>\n",
       "      <td>de.neuland.jade4j.compiler.IssuesTest</td>\n",
       "      <td>1</td>\n",
       "      <td>0.158</td>\n",
       "      <td>23</td>\n",
       "      <td>0</td>\n",
       "      <td>0</td>\n",
       "      <td>0</td>\n",
       "      <td>0</td>\n",
       "    </tr>\n",
       "    <tr>\n",
       "      <th>3663</th>\n",
       "      <td>95531958</td>\n",
       "      <td>de.neuland.jade4j.compiler.CompilerTest</td>\n",
       "      <td>2</td>\n",
       "      <td>0.648</td>\n",
       "      <td>71</td>\n",
       "      <td>0</td>\n",
       "      <td>0</td>\n",
       "      <td>2</td>\n",
       "      <td>0</td>\n",
       "    </tr>\n",
       "    <tr>\n",
       "      <th>3664</th>\n",
       "      <td>95531958</td>\n",
       "      <td>de.neuland.jade4j.exceptions.JadeExceptionTest</td>\n",
       "      <td>3</td>\n",
       "      <td>0.037</td>\n",
       "      <td>2</td>\n",
       "      <td>0</td>\n",
       "      <td>0</td>\n",
       "      <td>0</td>\n",
       "      <td>0</td>\n",
       "    </tr>\n",
       "    <tr>\n",
       "      <th>3665</th>\n",
       "      <td>95531958</td>\n",
       "      <td>de.neuland.jade4j.compiler.CompilerIndentation...</td>\n",
       "      <td>4</td>\n",
       "      <td>0.000</td>\n",
       "      <td>1</td>\n",
       "      <td>0</td>\n",
       "      <td>0</td>\n",
       "      <td>0</td>\n",
       "      <td>0</td>\n",
       "    </tr>\n",
       "  </tbody>\n",
       "</table>\n",
       "</div>"
      ],
      "text/plain": [
       "      travisJobId                                           testName  index  \\\n",
       "3661     95531958  de.neuland.jade4j.compiler.OriginalJade2015051...      0   \n",
       "3662     95531958              de.neuland.jade4j.compiler.IssuesTest      1   \n",
       "3663     95531958            de.neuland.jade4j.compiler.CompilerTest      2   \n",
       "3664     95531958     de.neuland.jade4j.exceptions.JadeExceptionTest      3   \n",
       "3665     95531958  de.neuland.jade4j.compiler.CompilerIndentation...      4   \n",
       "\n",
       "      duration  count  failures  errors  skipped  red  \n",
       "3661     1.481     22        11      11        0   22  \n",
       "3662     0.158     23         0       0        0    0  \n",
       "3663     0.648     71         0       0        2    0  \n",
       "3664     0.037      2         0       0        0    0  \n",
       "3665     0.000      1         0       0        0    0  "
      ]
     },
     "execution_count": 2,
     "metadata": {},
     "output_type": "execute_result"
    }
   ],
   "source": [
    "import pandas as pd\n",
    "rnd = pd.read_csv('../output/neuland@jade4j/baseline/jade4j@recently-failed.csv')\n",
    "rnd['red'] = rnd.failures + rnd.errors\n",
    "rnd = rnd[rnd['travisJobId'].isin([95531958])]\n",
    "rnd.head()"
   ]
  },
  {
   "cell_type": "code",
   "execution_count": 3,
   "metadata": {},
   "outputs": [
    {
     "data": {
      "text/html": [
       "<div>\n",
       "<style scoped>\n",
       "    .dataframe tbody tr th:only-of-type {\n",
       "        vertical-align: middle;\n",
       "    }\n",
       "\n",
       "    .dataframe tbody tr th {\n",
       "        vertical-align: top;\n",
       "    }\n",
       "\n",
       "    .dataframe thead th {\n",
       "        text-align: right;\n",
       "    }\n",
       "</style>\n",
       "<table border=\"1\" class=\"dataframe\">\n",
       "  <thead>\n",
       "    <tr style=\"text-align: right;\">\n",
       "      <th></th>\n",
       "      <th>travisJobId</th>\n",
       "      <th>testName</th>\n",
       "      <th>index</th>\n",
       "      <th>duration</th>\n",
       "      <th>count</th>\n",
       "      <th>failures</th>\n",
       "      <th>errors</th>\n",
       "      <th>skipped</th>\n",
       "      <th>red</th>\n",
       "    </tr>\n",
       "  </thead>\n",
       "  <tbody>\n",
       "    <tr>\n",
       "      <th>3292</th>\n",
       "      <td>95531958</td>\n",
       "      <td>de.neuland.jade4j.compiler.OriginalJade2015051...</td>\n",
       "      <td>0</td>\n",
       "      <td>1.481</td>\n",
       "      <td>22</td>\n",
       "      <td>11</td>\n",
       "      <td>11</td>\n",
       "      <td>0</td>\n",
       "      <td>22</td>\n",
       "    </tr>\n",
       "    <tr>\n",
       "      <th>3293</th>\n",
       "      <td>95531958</td>\n",
       "      <td>de.neuland.jade4j.util.CharacterParserTest</td>\n",
       "      <td>1</td>\n",
       "      <td>0.011</td>\n",
       "      <td>6</td>\n",
       "      <td>0</td>\n",
       "      <td>0</td>\n",
       "      <td>0</td>\n",
       "      <td>0</td>\n",
       "    </tr>\n",
       "    <tr>\n",
       "      <th>3294</th>\n",
       "      <td>95531958</td>\n",
       "      <td>de.neuland.jade4j.util.ArgumentSplitterTest</td>\n",
       "      <td>2</td>\n",
       "      <td>0.000</td>\n",
       "      <td>4</td>\n",
       "      <td>0</td>\n",
       "      <td>0</td>\n",
       "      <td>0</td>\n",
       "      <td>0</td>\n",
       "    </tr>\n",
       "    <tr>\n",
       "      <th>3295</th>\n",
       "      <td>95531958</td>\n",
       "      <td>de.neuland.jade4j.util.JadeEscapeTest</td>\n",
       "      <td>3</td>\n",
       "      <td>0.000</td>\n",
       "      <td>1</td>\n",
       "      <td>0</td>\n",
       "      <td>0</td>\n",
       "      <td>0</td>\n",
       "      <td>0</td>\n",
       "    </tr>\n",
       "    <tr>\n",
       "      <th>3296</th>\n",
       "      <td>95531958</td>\n",
       "      <td>de.neuland.jade4j.model.JadeModelTest</td>\n",
       "      <td>4</td>\n",
       "      <td>0.000</td>\n",
       "      <td>2</td>\n",
       "      <td>0</td>\n",
       "      <td>0</td>\n",
       "      <td>0</td>\n",
       "      <td>0</td>\n",
       "    </tr>\n",
       "  </tbody>\n",
       "</table>\n",
       "</div>"
      ],
      "text/plain": [
       "      travisJobId                                           testName  index  \\\n",
       "3292     95531958  de.neuland.jade4j.compiler.OriginalJade2015051...      0   \n",
       "3293     95531958         de.neuland.jade4j.util.CharacterParserTest      1   \n",
       "3294     95531958        de.neuland.jade4j.util.ArgumentSplitterTest      2   \n",
       "3295     95531958              de.neuland.jade4j.util.JadeEscapeTest      3   \n",
       "3296     95531958              de.neuland.jade4j.model.JadeModelTest      4   \n",
       "\n",
       "      duration  count  failures  errors  skipped  red  \n",
       "3292     1.481     22        11      11        0   22  \n",
       "3293     0.011      6         0       0        0    0  \n",
       "3294     0.000      4         0       0        0    0  \n",
       "3295     0.000      1         0       0        0    0  \n",
       "3296     0.000      2         0       0        0    0  "
      ]
     },
     "execution_count": 3,
     "metadata": {},
     "output_type": "execute_result"
    }
   ],
   "source": [
    "opt = pd.read_csv('../output/neuland@jade4j/baseline/jade4j@optimal-failure.csv')\n",
    "opt['red'] = opt.failures + opt.errors\n",
    "opt = opt[opt['travisJobId'].isin([95531958])]\n",
    "opt.head()"
   ]
  },
  {
   "cell_type": "code",
   "execution_count": 4,
   "metadata": {},
   "outputs": [],
   "source": [
    "from testmining.apfd import apfd_plot, apfd"
   ]
  },
  {
   "cell_type": "code",
   "execution_count": 5,
   "metadata": {},
   "outputs": [
    {
     "data": {
      "text/html": [
       "<div>\n",
       "<style scoped>\n",
       "    .dataframe tbody tr th:only-of-type {\n",
       "        vertical-align: middle;\n",
       "    }\n",
       "\n",
       "    .dataframe tbody tr th {\n",
       "        vertical-align: top;\n",
       "    }\n",
       "\n",
       "    .dataframe thead th {\n",
       "        text-align: right;\n",
       "    }\n",
       "</style>\n",
       "<table border=\"1\" class=\"dataframe\">\n",
       "  <thead>\n",
       "    <tr style=\"text-align: right;\">\n",
       "      <th></th>\n",
       "      <th>executed</th>\n",
       "      <th>red</th>\n",
       "    </tr>\n",
       "  </thead>\n",
       "  <tbody>\n",
       "    <tr>\n",
       "      <th>0</th>\n",
       "      <td>0.000000</td>\n",
       "      <td>0.0</td>\n",
       "    </tr>\n",
       "    <tr>\n",
       "      <th>3661</th>\n",
       "      <td>0.070064</td>\n",
       "      <td>1.0</td>\n",
       "    </tr>\n",
       "    <tr>\n",
       "      <th>3662</th>\n",
       "      <td>0.143312</td>\n",
       "      <td>1.0</td>\n",
       "    </tr>\n",
       "    <tr>\n",
       "      <th>3663</th>\n",
       "      <td>0.369427</td>\n",
       "      <td>1.0</td>\n",
       "    </tr>\n",
       "    <tr>\n",
       "      <th>3664</th>\n",
       "      <td>0.375796</td>\n",
       "      <td>1.0</td>\n",
       "    </tr>\n",
       "  </tbody>\n",
       "</table>\n",
       "</div>"
      ],
      "text/plain": [
       "      executed  red\n",
       "0     0.000000  0.0\n",
       "3661  0.070064  1.0\n",
       "3662  0.143312  1.0\n",
       "3663  0.369427  1.0\n",
       "3664  0.375796  1.0"
      ]
     },
     "execution_count": 5,
     "metadata": {},
     "output_type": "execute_result"
    }
   ],
   "source": [
    "apfd_plot(rnd).head()"
   ]
  },
  {
   "cell_type": "code",
   "execution_count": 6,
   "metadata": {},
   "outputs": [
    {
     "data": {
      "text/html": [
       "<div>\n",
       "<style scoped>\n",
       "    .dataframe tbody tr th:only-of-type {\n",
       "        vertical-align: middle;\n",
       "    }\n",
       "\n",
       "    .dataframe tbody tr th {\n",
       "        vertical-align: top;\n",
       "    }\n",
       "\n",
       "    .dataframe thead th {\n",
       "        text-align: right;\n",
       "    }\n",
       "</style>\n",
       "<table border=\"1\" class=\"dataframe\">\n",
       "  <thead>\n",
       "    <tr style=\"text-align: right;\">\n",
       "      <th></th>\n",
       "      <th>executed</th>\n",
       "      <th>red</th>\n",
       "    </tr>\n",
       "  </thead>\n",
       "  <tbody>\n",
       "    <tr>\n",
       "      <th>0</th>\n",
       "      <td>0.000000</td>\n",
       "      <td>0.0</td>\n",
       "    </tr>\n",
       "    <tr>\n",
       "      <th>3292</th>\n",
       "      <td>0.070064</td>\n",
       "      <td>1.0</td>\n",
       "    </tr>\n",
       "    <tr>\n",
       "      <th>3293</th>\n",
       "      <td>0.089172</td>\n",
       "      <td>1.0</td>\n",
       "    </tr>\n",
       "    <tr>\n",
       "      <th>3294</th>\n",
       "      <td>0.101911</td>\n",
       "      <td>1.0</td>\n",
       "    </tr>\n",
       "    <tr>\n",
       "      <th>3295</th>\n",
       "      <td>0.105096</td>\n",
       "      <td>1.0</td>\n",
       "    </tr>\n",
       "  </tbody>\n",
       "</table>\n",
       "</div>"
      ],
      "text/plain": [
       "      executed  red\n",
       "0     0.000000  0.0\n",
       "3292  0.070064  1.0\n",
       "3293  0.089172  1.0\n",
       "3294  0.101911  1.0\n",
       "3295  0.105096  1.0"
      ]
     },
     "execution_count": 6,
     "metadata": {},
     "output_type": "execute_result"
    }
   ],
   "source": [
    "apfd_plot(opt).head()"
   ]
  },
  {
   "cell_type": "code",
   "execution_count": 7,
   "metadata": {},
   "outputs": [
    {
     "data": {
      "text/plain": [
       "(0.964968152866242, 0.9649681528662419)"
      ]
     },
     "execution_count": 7,
     "metadata": {},
     "output_type": "execute_result"
    }
   ],
   "source": [
    "apfd(apfd_plot(rnd)), apfd(apfd_plot(opt))"
   ]
  },
  {
   "cell_type": "code",
   "execution_count": 8,
   "metadata": {},
   "outputs": [],
   "source": [
    "import altair as alt"
   ]
  },
  {
   "cell_type": "code",
   "execution_count": 9,
   "metadata": {},
   "outputs": [],
   "source": [
    "rndp = pd.concat([\n",
    "    pd.DataFrame({'executed': [0], 'red': [0]}),\n",
    "    apfd_plot(rnd),\n",
    "])\n",
    "\n",
    "optp = pd.concat([\n",
    "    pd.DataFrame({'executed': [0], 'red': [0]}),\n",
    "    apfd_plot(opt),\n",
    "])"
   ]
  },
  {
   "cell_type": "code",
   "execution_count": 10,
   "metadata": {},
   "outputs": [
    {
     "data": {
      "text/html": [
       "<div class=\"vega-embed\" id=\"bd80bf66-a640-4efc-b987-8cc077b4675c\"></div>\n",
       "\n",
       "<style>\n",
       ".vega-embed .error p {\n",
       "    color: firebrick;\n",
       "    font-size: 14px;\n",
       "}\n",
       "</style>\n"
      ]
     },
     "metadata": {
      "jupyter-vega": "#bd80bf66-a640-4efc-b987-8cc077b4675c"
     },
     "output_type": "display_data"
    },
    {
     "data": {
      "application/javascript": [
       "var spec = {\"config\": {\"view\": {\"width\": 400, \"height\": 300}}, \"hconcat\": [{\"data\": {\"name\": \"data-4aa06970be393125b5acb8ab412fbdba\"}, \"mark\": \"line\", \"encoding\": {\"color\": {\"value\": \"orange\"}, \"x\": {\"type\": \"quantitative\", \"field\": \"executed\"}, \"y\": {\"type\": \"quantitative\", \"field\": \"red\"}}}, {\"data\": {\"name\": \"data-620e94649cfa7bbbee1bda74fc7cbe3c\"}, \"mark\": \"line\", \"encoding\": {\"color\": {\"value\": \"blue\"}, \"x\": {\"type\": \"quantitative\", \"field\": \"executed\"}, \"y\": {\"type\": \"quantitative\", \"field\": \"red\"}}}], \"$schema\": \"https://vega.github.io/schema/vega-lite/v2.6.0.json\", \"datasets\": {\"data-4aa06970be393125b5acb8ab412fbdba\": [{\"executed\": 0.0, \"red\": 0.0}, {\"executed\": 0.0, \"red\": 0.0}, {\"executed\": 0.07006369426751592, \"red\": 1.0}, {\"executed\": 0.14331210191082802, \"red\": 1.0}, {\"executed\": 0.36942675159235666, \"red\": 1.0}, {\"executed\": 0.37579617834394907, \"red\": 1.0}, {\"executed\": 0.37898089171974525, \"red\": 1.0}, {\"executed\": 0.4713375796178344, \"red\": 1.0}, {\"executed\": 0.4745222929936306, \"red\": 1.0}, {\"executed\": 0.48089171974522293, \"red\": 1.0}, {\"executed\": 0.4840764331210191, \"red\": 1.0}, {\"executed\": 0.4872611464968153, \"red\": 1.0}, {\"executed\": 0.49044585987261147, \"red\": 1.0}, {\"executed\": 0.49363057324840764, \"red\": 1.0}, {\"executed\": 0.4968152866242038, \"red\": 1.0}, {\"executed\": 0.5, \"red\": 1.0}, {\"executed\": 0.5095541401273885, \"red\": 1.0}, {\"executed\": 0.5127388535031847, \"red\": 1.0}, {\"executed\": 0.5159235668789809, \"red\": 1.0}, {\"executed\": 0.5191082802547771, \"red\": 1.0}, {\"executed\": 0.5222929936305732, \"red\": 1.0}, {\"executed\": 0.5254777070063694, \"red\": 1.0}, {\"executed\": 0.535031847133758, \"red\": 1.0}, {\"executed\": 0.5382165605095541, \"red\": 1.0}, {\"executed\": 0.5414012738853503, \"red\": 1.0}, {\"executed\": 0.5445859872611465, \"red\": 1.0}, {\"executed\": 0.5477707006369427, \"red\": 1.0}, {\"executed\": 0.5509554140127388, \"red\": 1.0}, {\"executed\": 0.554140127388535, \"red\": 1.0}, {\"executed\": 0.5668789808917197, \"red\": 1.0}, {\"executed\": 0.5732484076433121, \"red\": 1.0}, {\"executed\": 0.5764331210191083, \"red\": 1.0}, {\"executed\": 0.5955414012738853, \"red\": 1.0}, {\"executed\": 0.60828025477707, \"red\": 1.0}, {\"executed\": 0.6114649681528662, \"red\": 1.0}, {\"executed\": 0.6178343949044586, \"red\": 1.0}, {\"executed\": 0.6337579617834395, \"red\": 1.0}, {\"executed\": 0.6369426751592356, \"red\": 1.0}, {\"executed\": 0.6401273885350318, \"red\": 1.0}, {\"executed\": 0.6592356687898089, \"red\": 1.0}, {\"executed\": 0.6624203821656051, \"red\": 1.0}, {\"executed\": 0.6656050955414012, \"red\": 1.0}, {\"executed\": 0.6751592356687898, \"red\": 1.0}, {\"executed\": 0.9936305732484076, \"red\": 1.0}, {\"executed\": 0.9968152866242038, \"red\": 1.0}, {\"executed\": 1.0, \"red\": 1.0}], \"data-620e94649cfa7bbbee1bda74fc7cbe3c\": [{\"executed\": 0.0, \"red\": 0.0}, {\"executed\": 0.0, \"red\": 0.0}, {\"executed\": 0.07006369426751592, \"red\": 1.0}, {\"executed\": 0.08917197452229299, \"red\": 1.0}, {\"executed\": 0.10191082802547771, \"red\": 1.0}, {\"executed\": 0.10509554140127389, \"red\": 1.0}, {\"executed\": 0.11146496815286625, \"red\": 1.0}, {\"executed\": 0.1178343949044586, \"red\": 1.0}, {\"executed\": 0.1337579617834395, \"red\": 1.0}, {\"executed\": 0.22611464968152867, \"red\": 1.0}, {\"executed\": 0.22929936305732485, \"red\": 1.0}, {\"executed\": 0.23248407643312102, \"red\": 1.0}, {\"executed\": 0.2356687898089172, \"red\": 1.0}, {\"executed\": 0.46178343949044587, \"red\": 1.0}, {\"executed\": 0.46496815286624205, \"red\": 1.0}, {\"executed\": 0.5382165605095541, \"red\": 1.0}, {\"executed\": 0.5414012738853503, \"red\": 1.0}, {\"executed\": 0.5445859872611465, \"red\": 1.0}, {\"executed\": 0.5477707006369427, \"red\": 1.0}, {\"executed\": 0.554140127388535, \"red\": 1.0}, {\"executed\": 0.5573248407643312, \"red\": 1.0}, {\"executed\": 0.5605095541401274, \"red\": 1.0}, {\"executed\": 0.5636942675159236, \"red\": 1.0}, {\"executed\": 0.5668789808917197, \"red\": 1.0}, {\"executed\": 0.5700636942675159, \"red\": 1.0}, {\"executed\": 0.589171974522293, \"red\": 1.0}, {\"executed\": 0.5923566878980892, \"red\": 1.0}, {\"executed\": 0.5955414012738853, \"red\": 1.0}, {\"executed\": 0.5987261146496815, \"red\": 1.0}, {\"executed\": 0.6050955414012739, \"red\": 1.0}, {\"executed\": 0.60828025477707, \"red\": 1.0}, {\"executed\": 0.6178343949044586, \"red\": 1.0}, {\"executed\": 0.9363057324840764, \"red\": 1.0}, {\"executed\": 0.9394904458598726, \"red\": 1.0}, {\"executed\": 0.9490445859872612, \"red\": 1.0}, {\"executed\": 0.9522292993630573, \"red\": 1.0}, {\"executed\": 0.9554140127388535, \"red\": 1.0}, {\"executed\": 0.9585987261146497, \"red\": 1.0}, {\"executed\": 0.9617834394904459, \"red\": 1.0}, {\"executed\": 0.964968152866242, \"red\": 1.0}, {\"executed\": 0.9777070063694268, \"red\": 1.0}, {\"executed\": 0.9808917197452229, \"red\": 1.0}, {\"executed\": 0.9904458598726115, \"red\": 1.0}, {\"executed\": 0.9936305732484076, \"red\": 1.0}, {\"executed\": 0.9968152866242038, \"red\": 1.0}, {\"executed\": 1.0, \"red\": 1.0}]}};\n",
       "var opt = {};\n",
       "var selector = \"#bd80bf66-a640-4efc-b987-8cc077b4675c\";\n",
       "var type = \"vega-lite\";\n",
       "\n",
       "var output_area = this;\n",
       "\n",
       "require(['nbextensions/jupyter-vega/index'], function(vega) {\n",
       "  vega.render(selector, spec, type, opt, output_area);\n",
       "}, function (err) {\n",
       "  if (err.requireType !== 'scripterror') {\n",
       "    throw(err);\n",
       "  }\n",
       "});\n"
      ]
     },
     "metadata": {
      "jupyter-vega": "#bd80bf66-a640-4efc-b987-8cc077b4675c"
     },
     "output_type": "display_data"
    },
    {
     "data": {
      "text/plain": []
     },
     "execution_count": 10,
     "metadata": {},
     "output_type": "execute_result"
    },
    {
     "data": {
      "image/png": "[encoded data removed]"
     },
     "metadata": {
      "jupyter-vega": "#bd80bf66-a640-4efc-b987-8cc077b4675c"
     },
     "output_type": "display_data"
    }
   ],
   "source": [
    "rnd_chart = alt.Chart(rndp).mark_line().encode(x='executed', y='red', color=alt.value('orange'))\n",
    "opt_chart = alt.Chart(optp).mark_line().encode(x='executed', y='red', color=alt.value('blue'))\n",
    "rnd_chart | opt_chart"
   ]
  },
  {
   "cell_type": "code",
   "execution_count": 11,
   "metadata": {},
   "outputs": [
    {
     "data": {
      "text/plain": [
       "(0.964968152866242, 0.964968152866242)"
      ]
     },
     "execution_count": 11,
     "metadata": {},
     "output_type": "execute_result"
    }
   ],
   "source": [
    "apfd(rndp), apfd(optp)"
   ]
  },
  {
   "cell_type": "code",
   "execution_count": 13,
   "metadata": {},
   "outputs": [
    {
     "data": {
      "text/plain": [
       "0         0\n",
       "3661     22\n",
       "3662     45\n",
       "3663    116\n",
       "3664    118\n",
       "3665    119\n",
       "3666    148\n",
       "3667    149\n",
       "3668    151\n",
       "3669    152\n",
       "3670    153\n",
       "3671    154\n",
       "3672    155\n",
       "3673    156\n",
       "3674    157\n",
       "3675    160\n",
       "3676    161\n",
       "3677    162\n",
       "3678    163\n",
       "3679    164\n",
       "3680    165\n",
       "3681    168\n",
       "3682    169\n",
       "3683    170\n",
       "3684    171\n",
       "3685    172\n",
       "3686    173\n",
       "3687    174\n",
       "3688    178\n",
       "3689    180\n",
       "3690    181\n",
       "3691    187\n",
       "3692    191\n",
       "3693    192\n",
       "3694    194\n",
       "3695    199\n",
       "3696    200\n",
       "3697    201\n",
       "3698    207\n",
       "3699    208\n",
       "3700    209\n",
       "3701    212\n",
       "3702    312\n",
       "3703    313\n",
       "3704    314\n",
       "dtype: int64"
      ]
     },
     "execution_count": 13,
     "metadata": {},
     "output_type": "execute_result"
    }
   ],
   "source": [
    "pd.Series([0]).append(rnd['count'].cumsum())"
   ]
  }
 ],
 "metadata": {
  "kernelspec": {
   "display_name": "Python 3",
   "language": "python",
   "name": "python3"
  },
  "language_info": {
   "codemirror_mode": {
    "name": "ipython",
    "version": 3
   },
   "file_extension": ".py",
   "mimetype": "text/x-python",
   "name": "python",
   "nbconvert_exporter": "python",
   "pygments_lexer": "ipython3",
   "version": "3.6.3"
  }
 },
 "nbformat": 4,
 "nbformat_minor": 2
}
