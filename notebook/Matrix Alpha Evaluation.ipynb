{
 "cells": [
  {
   "cell_type": "code",
   "execution_count": 1,
   "metadata": {},
   "outputs": [],
   "source": [
    "from util import setup_notebook\n",
    "setup_notebook()\n",
    "%load_ext autoreload\n",
    "%autoreload 2"
   ]
  },
  {
   "cell_type": "code",
   "execution_count": 2,
   "metadata": {},
   "outputs": [],
   "source": [
    "import re\n",
    "import altair as alt\n",
    "import pandas as pd\n",
    "from testmining import apfd\n",
    "from testmining.util import find_files"
   ]
  },
  {
   "cell_type": "code",
   "execution_count": 3,
   "metadata": {},
   "outputs": [
    {
     "data": {
      "text/html": [
       "<div>\n",
       "<style scoped>\n",
       "    .dataframe tbody tr th:only-of-type {\n",
       "        vertical-align: middle;\n",
       "    }\n",
       "\n",
       "    .dataframe tbody tr th {\n",
       "        vertical-align: top;\n",
       "    }\n",
       "\n",
       "    .dataframe thead th {\n",
       "        text-align: right;\n",
       "    }\n",
       "</style>\n",
       "<table border=\"1\" class=\"dataframe\">\n",
       "  <thead>\n",
       "    <tr style=\"text-align: right;\">\n",
       "      <th></th>\n",
       "      <th>alpha</th>\n",
       "      <th>filename</th>\n",
       "    </tr>\n",
       "  </thead>\n",
       "  <tbody>\n",
       "    <tr>\n",
       "      <th>0</th>\n",
       "      <td>0.0</td>\n",
       "      <td>../output/square@okhttp/matrix-alpha/square-ok...</td>\n",
       "    </tr>\n",
       "    <tr>\n",
       "      <th>1</th>\n",
       "      <td>0.1</td>\n",
       "      <td>../output/square@okhttp/matrix-alpha/square-ok...</td>\n",
       "    </tr>\n",
       "    <tr>\n",
       "      <th>2</th>\n",
       "      <td>0.2</td>\n",
       "      <td>../output/square@okhttp/matrix-alpha/square-ok...</td>\n",
       "    </tr>\n",
       "    <tr>\n",
       "      <th>3</th>\n",
       "      <td>0.3</td>\n",
       "      <td>../output/square@okhttp/matrix-alpha/square-ok...</td>\n",
       "    </tr>\n",
       "    <tr>\n",
       "      <th>4</th>\n",
       "      <td>0.4</td>\n",
       "      <td>../output/square@okhttp/matrix-alpha/square-ok...</td>\n",
       "    </tr>\n",
       "    <tr>\n",
       "      <th>5</th>\n",
       "      <td>0.5</td>\n",
       "      <td>../output/square@okhttp/matrix-alpha/square-ok...</td>\n",
       "    </tr>\n",
       "    <tr>\n",
       "      <th>6</th>\n",
       "      <td>0.6</td>\n",
       "      <td>../output/square@okhttp/matrix-alpha/square-ok...</td>\n",
       "    </tr>\n",
       "    <tr>\n",
       "      <th>7</th>\n",
       "      <td>0.7</td>\n",
       "      <td>../output/square@okhttp/matrix-alpha/square-ok...</td>\n",
       "    </tr>\n",
       "    <tr>\n",
       "      <th>8</th>\n",
       "      <td>0.8</td>\n",
       "      <td>../output/square@okhttp/matrix-alpha/square-ok...</td>\n",
       "    </tr>\n",
       "    <tr>\n",
       "      <th>9</th>\n",
       "      <td>0.9</td>\n",
       "      <td>../output/square@okhttp/matrix-alpha/square-ok...</td>\n",
       "    </tr>\n",
       "    <tr>\n",
       "      <th>10</th>\n",
       "      <td>1.0</td>\n",
       "      <td>../output/square@okhttp/matrix-alpha/square-ok...</td>\n",
       "    </tr>\n",
       "  </tbody>\n",
       "</table>\n",
       "</div>"
      ],
      "text/plain": [
       "    alpha                                           filename\n",
       "0     0.0  ../output/square@okhttp/matrix-alpha/square-ok...\n",
       "1     0.1  ../output/square@okhttp/matrix-alpha/square-ok...\n",
       "2     0.2  ../output/square@okhttp/matrix-alpha/square-ok...\n",
       "3     0.3  ../output/square@okhttp/matrix-alpha/square-ok...\n",
       "4     0.4  ../output/square@okhttp/matrix-alpha/square-ok...\n",
       "5     0.5  ../output/square@okhttp/matrix-alpha/square-ok...\n",
       "6     0.6  ../output/square@okhttp/matrix-alpha/square-ok...\n",
       "7     0.7  ../output/square@okhttp/matrix-alpha/square-ok...\n",
       "8     0.8  ../output/square@okhttp/matrix-alpha/square-ok...\n",
       "9     0.9  ../output/square@okhttp/matrix-alpha/square-ok...\n",
       "10    1.0  ../output/square@okhttp/matrix-alpha/square-ok..."
      ]
     },
     "execution_count": 3,
     "metadata": {},
     "output_type": "execute_result"
    }
   ],
   "source": [
    "base_dir = '../output/square@okhttp/matrix-alpha'\n",
    "file_regex = re.compile('square-okhttp-matrix-alpha-([.\\d]+).csv')\n",
    "files = find_files(base_dir, file_regex, converter=float)\n",
    "df = pd.DataFrame(files, columns=['alpha', 'filename']).sort_values(by='alpha').reset_index(drop=True)\n",
    "df"
   ]
  },
  {
   "cell_type": "code",
   "execution_count": 4,
   "metadata": {},
   "outputs": [
    {
     "data": {
      "text/html": [
       "<div>\n",
       "<style scoped>\n",
       "    .dataframe tbody tr th:only-of-type {\n",
       "        vertical-align: middle;\n",
       "    }\n",
       "\n",
       "    .dataframe tbody tr th {\n",
       "        vertical-align: top;\n",
       "    }\n",
       "\n",
       "    .dataframe thead th {\n",
       "        text-align: right;\n",
       "    }\n",
       "</style>\n",
       "<table border=\"1\" class=\"dataframe\">\n",
       "  <thead>\n",
       "    <tr style=\"text-align: right;\">\n",
       "      <th></th>\n",
       "      <th>alpha</th>\n",
       "      <th>filename</th>\n",
       "      <th>apfd</th>\n",
       "    </tr>\n",
       "  </thead>\n",
       "  <tbody>\n",
       "    <tr>\n",
       "      <th>0</th>\n",
       "      <td>0.0</td>\n",
       "      <td>../output/square@okhttp/matrix-alpha/square-ok...</td>\n",
       "      <td>0.465961</td>\n",
       "    </tr>\n",
       "    <tr>\n",
       "      <th>1</th>\n",
       "      <td>0.1</td>\n",
       "      <td>../output/square@okhttp/matrix-alpha/square-ok...</td>\n",
       "      <td>0.465961</td>\n",
       "    </tr>\n",
       "    <tr>\n",
       "      <th>2</th>\n",
       "      <td>0.2</td>\n",
       "      <td>../output/square@okhttp/matrix-alpha/square-ok...</td>\n",
       "      <td>0.465961</td>\n",
       "    </tr>\n",
       "    <tr>\n",
       "      <th>3</th>\n",
       "      <td>0.3</td>\n",
       "      <td>../output/square@okhttp/matrix-alpha/square-ok...</td>\n",
       "      <td>0.465961</td>\n",
       "    </tr>\n",
       "    <tr>\n",
       "      <th>4</th>\n",
       "      <td>0.4</td>\n",
       "      <td>../output/square@okhttp/matrix-alpha/square-ok...</td>\n",
       "      <td>0.465961</td>\n",
       "    </tr>\n",
       "    <tr>\n",
       "      <th>5</th>\n",
       "      <td>0.5</td>\n",
       "      <td>../output/square@okhttp/matrix-alpha/square-ok...</td>\n",
       "      <td>0.728776</td>\n",
       "    </tr>\n",
       "    <tr>\n",
       "      <th>6</th>\n",
       "      <td>0.6</td>\n",
       "      <td>../output/square@okhttp/matrix-alpha/square-ok...</td>\n",
       "      <td>0.728776</td>\n",
       "    </tr>\n",
       "    <tr>\n",
       "      <th>7</th>\n",
       "      <td>0.7</td>\n",
       "      <td>../output/square@okhttp/matrix-alpha/square-ok...</td>\n",
       "      <td>0.728776</td>\n",
       "    </tr>\n",
       "    <tr>\n",
       "      <th>8</th>\n",
       "      <td>0.8</td>\n",
       "      <td>../output/square@okhttp/matrix-alpha/square-ok...</td>\n",
       "      <td>0.722743</td>\n",
       "    </tr>\n",
       "    <tr>\n",
       "      <th>9</th>\n",
       "      <td>0.9</td>\n",
       "      <td>../output/square@okhttp/matrix-alpha/square-ok...</td>\n",
       "      <td>0.712318</td>\n",
       "    </tr>\n",
       "    <tr>\n",
       "      <th>10</th>\n",
       "      <td>1.0</td>\n",
       "      <td>../output/square@okhttp/matrix-alpha/square-ok...</td>\n",
       "      <td>0.677132</td>\n",
       "    </tr>\n",
       "  </tbody>\n",
       "</table>\n",
       "</div>"
      ],
      "text/plain": [
       "    alpha                                           filename      apfd\n",
       "0     0.0  ../output/square@okhttp/matrix-alpha/square-ok...  0.465961\n",
       "1     0.1  ../output/square@okhttp/matrix-alpha/square-ok...  0.465961\n",
       "2     0.2  ../output/square@okhttp/matrix-alpha/square-ok...  0.465961\n",
       "3     0.3  ../output/square@okhttp/matrix-alpha/square-ok...  0.465961\n",
       "4     0.4  ../output/square@okhttp/matrix-alpha/square-ok...  0.465961\n",
       "5     0.5  ../output/square@okhttp/matrix-alpha/square-ok...  0.728776\n",
       "6     0.6  ../output/square@okhttp/matrix-alpha/square-ok...  0.728776\n",
       "7     0.7  ../output/square@okhttp/matrix-alpha/square-ok...  0.728776\n",
       "8     0.8  ../output/square@okhttp/matrix-alpha/square-ok...  0.722743\n",
       "9     0.9  ../output/square@okhttp/matrix-alpha/square-ok...  0.712318\n",
       "10    1.0  ../output/square@okhttp/matrix-alpha/square-ok...  0.677132"
      ]
     },
     "execution_count": 4,
     "metadata": {},
     "output_type": "execute_result"
    }
   ],
   "source": [
    "df['apfd'] = df['filename'].apply(apfd.file_apfd)\n",
    "df"
   ]
  },
  {
   "cell_type": "code",
   "execution_count": 5,
   "metadata": {},
   "outputs": [
    {
     "data": {
      "text/plain": [
       "5"
      ]
     },
     "execution_count": 5,
     "metadata": {},
     "output_type": "execute_result"
    }
   ],
   "source": [
    "df['apfd'].idxmax()"
   ]
  },
  {
   "cell_type": "code",
   "execution_count": 6,
   "metadata": {},
   "outputs": [
    {
     "name": "stderr",
     "output_type": "stream",
     "text": [
      "/Users/falco/.local/share/virtualenvs/testmining-L_g6SVF2/lib/python3.6/site-packages/altair/utils/core.py:294: FutureWarning: A future version of pandas will default to `skipna=True`. To silence this warning, pass `skipna=True|False` explicitly.\n",
      "  attrs['type'] = infer_vegalite_type(data[attrs['field']])\n"
     ]
    },
    {
     "data": {
      "application/javascript": [
       "var spec = {\"config\": {\"view\": {\"width\": 400, \"height\": 300}}, \"data\": {\"name\": \"data-51d1bb2ae36d4f3e954e2b4cf050970b\"}, \"mark\": \"line\", \"encoding\": {\"x\": {\"type\": \"quantitative\", \"field\": \"alpha\"}, \"y\": {\"type\": \"quantitative\", \"field\": \"apfd\"}}, \"$schema\": \"https://vega.github.io/schema/vega-lite/v2.6.0.json\", \"datasets\": {\"data-51d1bb2ae36d4f3e954e2b4cf050970b\": [{\"alpha\": 0.0, \"filename\": \"../output/square@okhttp/matrix-alpha/square-okhttp-matrix-alpha-0.0.csv\", \"apfd\": 0.4659608791791919}, {\"alpha\": 0.1, \"filename\": \"../output/square@okhttp/matrix-alpha/square-okhttp-matrix-alpha-0.1.csv\", \"apfd\": 0.4659608791791919}, {\"alpha\": 0.2, \"filename\": \"../output/square@okhttp/matrix-alpha/square-okhttp-matrix-alpha-0.2.csv\", \"apfd\": 0.4659608791791919}, {\"alpha\": 0.3, \"filename\": \"../output/square@okhttp/matrix-alpha/square-okhttp-matrix-alpha-0.3.csv\", \"apfd\": 0.4659608791791919}, {\"alpha\": 0.4, \"filename\": \"../output/square@okhttp/matrix-alpha/square-okhttp-matrix-alpha-0.4.csv\", \"apfd\": 0.4659608791791919}, {\"alpha\": 0.5, \"filename\": \"../output/square@okhttp/matrix-alpha/square-okhttp-matrix-alpha-0.5.csv\", \"apfd\": 0.7287756600900569}, {\"alpha\": 0.6, \"filename\": \"../output/square@okhttp/matrix-alpha/square-okhttp-matrix-alpha-0.6.csv\", \"apfd\": 0.7287756600900569}, {\"alpha\": 0.7, \"filename\": \"../output/square@okhttp/matrix-alpha/square-okhttp-matrix-alpha-0.7.csv\", \"apfd\": 0.7287756600900569}, {\"alpha\": 0.8, \"filename\": \"../output/square@okhttp/matrix-alpha/square-okhttp-matrix-alpha-0.8.csv\", \"apfd\": 0.7227433964193325}, {\"alpha\": 0.9, \"filename\": \"../output/square@okhttp/matrix-alpha/square-okhttp-matrix-alpha-0.9.csv\", \"apfd\": 0.7123181642893217}, {\"alpha\": 1.0, \"filename\": \"../output/square@okhttp/matrix-alpha/square-okhttp-matrix-alpha-1.0.csv\", \"apfd\": 0.677131958802702}]}};\n",
       "var opt = {};\n",
       "var type = \"vega-lite\";\n",
       "var id = \"01fc17ab-50d7-4afc-ba7d-12ddc47a1ea8\";\n",
       "\n",
       "var output_area = this;\n",
       "\n",
       "require([\"nbextensions/jupyter-vega/index\"], function(vega) {\n",
       "  var target = document.createElement(\"div\");\n",
       "  target.id = id;\n",
       "  target.className = \"vega-embed\";\n",
       "\n",
       "  var style = document.createElement(\"style\");\n",
       "  style.textContent = [\n",
       "    \".vega-embed .error p {\",\n",
       "    \"  color: firebrick;\",\n",
       "    \"  font-size: 14px;\",\n",
       "    \"}\",\n",
       "  ].join(\"\\\\n\");\n",
       "\n",
       "  // element is a jQuery wrapped DOM element inside the output area\n",
       "  // see http://ipython.readthedocs.io/en/stable/api/generated/\\\n",
       "  // IPython.display.html#IPython.display.Javascript.__init__\n",
       "  element[0].appendChild(target);\n",
       "  element[0].appendChild(style);\n",
       "\n",
       "  vega.render(\"#\" + id, spec, type, opt, output_area);\n",
       "}, function (err) {\n",
       "  if (err.requireType !== \"scripterror\") {\n",
       "    throw(err);\n",
       "  }\n",
       "});\n"
      ],
      "text/plain": [
       "<vega.vegalite.VegaLite at 0x10c1e1198>"
      ]
     },
     "metadata": {
      "jupyter-vega": "#01fc17ab-50d7-4afc-ba7d-12ddc47a1ea8"
     },
     "output_type": "display_data"
    },
    {
     "data": {
      "text/plain": []
     },
     "execution_count": 6,
     "metadata": {},
     "output_type": "execute_result"
    },
    {
     "data": {
      "image/png": "[encoded data removed]"
     },
     "metadata": {
      "jupyter-vega": "#01fc17ab-50d7-4afc-ba7d-12ddc47a1ea8"
     },
     "output_type": "display_data"
    }
   ],
   "source": [
    "alt.Chart(df).mark_line().encode(\n",
    "  x=alt.X('alpha'),\n",
    "  y=alt.Y('apfd'),\n",
    ")"
   ]
  }
 ],
 "metadata": {
  "kernelspec": {
   "display_name": "Python 3",
   "language": "python",
   "name": "python3"
  },
  "language_info": {
   "codemirror_mode": {
    "name": "ipython",
    "version": 3
   },
   "file_extension": ".py",
   "mimetype": "text/x-python",
   "name": "python",
   "nbconvert_exporter": "python",
   "pygments_lexer": "ipython3",
   "version": "3.6.3"
  }
 },
 "nbformat": 4,
 "nbformat_minor": 2
}
